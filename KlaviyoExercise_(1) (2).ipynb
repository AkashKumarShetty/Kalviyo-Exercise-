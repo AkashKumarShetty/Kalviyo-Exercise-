{
 "cells": [
  {
   "cell_type": "markdown",
   "metadata": {
    "toc": true
   },
   "source": [
    "<h1>Table of Contents<span class=\"tocSkip\"></span></h1>\n",
    "<div class=\"toc\"><ul class=\"toc-item\"><li><span><a href=\"#Klaviyo-Exercise\" data-toc-modified-id=\"Klaviyo-Exercise-1\"><span class=\"toc-item-num\">1&nbsp;&nbsp;</span>Klaviyo Exercise</a></span></li><li><span><a href=\"#Exercise-1\" data-toc-modified-id=\"Exercise-1-2\"><span class=\"toc-item-num\">2&nbsp;&nbsp;</span>Exercise 1</a></span></li><li><span><a href=\"#Exercise-2\" data-toc-modified-id=\"Exercise-2-3\"><span class=\"toc-item-num\">3&nbsp;&nbsp;</span>Exercise 2</a></span></li><li><span><a href=\"#Exercise-3\" data-toc-modified-id=\"Exercise-3-4\"><span class=\"toc-item-num\">4&nbsp;&nbsp;</span>Exercise 3</a></span></li><li><span><a href=\"#Person-Class\" data-toc-modified-id=\"Person-Class-5\"><span class=\"toc-item-num\">5&nbsp;&nbsp;</span>Person Class</a></span></li><li><span><a href=\"#Exercise-4\" data-toc-modified-id=\"Exercise-4-6\"><span class=\"toc-item-num\">6&nbsp;&nbsp;</span>Exercise 4</a></span></li><span class=\"toc-item-num\">&nbsp;&nbsp;</span></li></ul></div>"
   ]
  },
  {
   "cell_type": "markdown",
   "metadata": {},
   "source": [
    "### Klaviyo Exercise\n",
    "In order to reduce bias, we have anonymized this step of the interview process. Please do not deanonymize yourself in this jupyter notebook."
   ]
  },
  {
   "cell_type": "markdown",
   "metadata": {},
   "source": [
    "### Exercise 1\n",
    "We have provided a sqlite3 database named `exercise.db`. The schema of the relevant table is written here: \n",
    "\n",
    "```CREATE TABLE items (sku INT PRIMARY KEY, name VARCHAR, price INT)```\n",
    "\n",
    "Print the name and SKU of each item in the table which has a price over $1. Assume price is in cents. Perform all data processing in the database."
   ]
  },
  {
   "cell_type": "code",
   "execution_count": null,
   "metadata": {},
   "outputs": [],
   "source": []
  },
  {
   "cell_type": "markdown",
   "metadata": {},
   "source": [
    "### Exercise 2\n",
    "The below code fails when total_cost is given a ShoppingList with an empty array of items. Write an assertion that fails because of this bug, and then modify the functions to fix the bug and make your assertion pass. "
   ]
  },
  {
   "cell_type": "code",
   "execution_count": null,
   "metadata": {},
   "outputs": [],
   "source": [
    "class ShoppingList:\n",
    "    def __init__(self, store, items):\n",
    "        self.store = store\n",
    "        self.items = items\n",
    "\n",
    "class Item:\n",
    "    def __init__(self, name, price):\n",
    "        self.name = name\n",
    "        self.price = price\n",
    "        \n",
    "def total_cost(shopping_lists):\n",
    "    \"\"\"Given a list of ShoppingList, returns the total cost of the shopping lists, \n",
    "    or None if the input list is empty\"\"\"\n",
    "    if not shopping_lists:\n",
    "        return None\n",
    "    sum_so_far = 0\n",
    "    for shopping_list in shopping_lists:\n",
    "        sum_so_far += _shopping_list_cost(shopping_list.items)\n",
    "    return sum_so_far\n",
    "\n",
    "def _shopping_list_cost(shopping_list):\n",
    "    \"\"\"Given a list of Items, returns the total cost of that shopping list.\"\"\"\n",
    "    if not shopping_list:\n",
    "        return None\n",
    "    sum_so_far = 0\n",
    "    for item in shopping_list:\n",
    "        sum_so_far += item.price\n",
    "    return sum_so_far\n",
    "\n",
    "apple = Item(\"apple\", 1.23)\n",
    "almonds = Item(\"almonds\", 7.99)\n",
    "artichoke = Item(\"artichoke\", 4.99)\n",
    "shopping_list1 = ShoppingList(\"trader joe's\", [apple, almonds])\n",
    "\n",
    "assert total_cost([shopping_list1]) == 1.23 + 7.99"
   ]
  },
  {
   "cell_type": "code",
   "execution_count": null,
   "metadata": {},
   "outputs": [],
   "source": []
  },
  {
   "cell_type": "markdown",
   "metadata": {},
   "source": [
    "### Exercise 3\n",
    "The code for Exercise 2 requires refactoring. Once you have fixed the bug, copy the fixed code below and modify it for clarity, conciseness, and simplicity. \n",
    "When refactoring, ensure that `total_cost` functions exactly the same as before, but feel free to change anything else."
   ]
  },
  {
   "cell_type": "code",
   "execution_count": null,
   "metadata": {},
   "outputs": [],
   "source": []
  },
  {
   "cell_type": "markdown",
   "metadata": {},
   "source": [
    "### Person Class\n",
    "The next exercise uses the following `Person` class. \n",
    "Each `Person` object is the root node of their (partially filled out) ancestor tree.\n",
    "\n",
    "With the exception of the arguments to the `__init__` function, feel free to make changes to the class."
   ]
  },
  {
   "cell_type": "code",
   "execution_count": null,
   "metadata": {},
   "outputs": [],
   "source": [
    "import datetime\n",
    "\n",
    "class Person:\n",
    "    name: str\n",
    "    date_of_birth: datetime.date\n",
    "    mother: \"Optional[Person]\"\n",
    "    father: \"Optional[Person]\"\n",
    "        \n",
    "    def __init__(self, name, date_of_birth, mother, father):\n",
    "        self.name = name\n",
    "        self.date_of_birth = date_of_birth\n",
    "        self.mother = mother\n",
    "        self.father = father"
   ]
  },
  {
   "cell_type": "markdown",
   "metadata": {},
   "source": [
    "### Exercise 4\n",
    "Fill in the following method that navigates a person's ancestor tree using a sequence of instructions. \n",
    "\n",
    "The function returns the name of the person that matches the instructions if such a person exists and `None` otherwise.\n",
    "\n",
    "The sequence will be a list of `\"mom\"` and `\"dad\"` instructions.\n",
    "Starting from the beginning of the list, each instruction determines which parent path to follow.\n",
    "\n",
    "So, a sequence of `[\"mom\", \"dad\"]` would mean that we're looking for a person's mom's dad (maternal grandfather)."
   ]
  },
  {
   "cell_type": "code",
   "execution_count": null,
   "metadata": {},
   "outputs": [],
   "source": [
    "from typing import List, Literal, Optional  # If you are running python <3.8, Literal is imported from typing_extensions\n",
    "\n",
    "Instructions = Literal[\"mom\", \"dad\"]\n",
    "\n",
    "def get_ancestor(person: Person, instructions: List[Instructions]) -> Optional[str]:\n",
    "    raise NotImplementedError"
   ]
  },
  {
   "cell_type": "code",
   "execution_count": null,
   "metadata": {},
   "outputs": [],
   "source": [
    "mom = Person(\"person's mother, a highly unlikely name\", datetime.date(1960, 10, 1), None, None)\n",
    "dad = Person(\"person's father, a similarly unlikely name\", datetime.date(1965, 10, 1), None, None)\n",
    "person = Person(\"person\", datetime.date(1995, 10, 1), mom, dad)\n",
    "\n",
    "assert get_ancestor(person, [\"mom\"]) == \"person's mother, a highly unlikely name\"\n",
    "assert get_ancestor(person, [\"mom\", \"mom\"]) == None"
   ]
  }
 ],
 "metadata": {
  "kernelspec": {
   "display_name": "Python 3",
   "language": "python",
   "name": "python3"
  },
  "language_info": {
   "codemirror_mode": {
    "name": "ipython",
    "version": 3
   },
   "file_extension": ".py",
   "mimetype": "text/x-python",
   "name": "python",
   "nbconvert_exporter": "python",
   "pygments_lexer": "ipython3",
   "version": "3.7.0"
  },
  "toc": {
   "base_numbering": 1,
   "nav_menu": {},
   "number_sections": true,
   "sideBar": true,
   "skip_h1_title": true,
   "title_cell": "Table of Contents",
   "title_sidebar": "Contents",
   "toc_cell": true,
   "toc_position": {},
   "toc_section_display": true,
   "toc_window_display": true
  },
  "varInspector": {
   "cols": {
    "lenName": 16,
    "lenType": 16,
    "lenVar": 40
   },
   "kernels_config": {
    "python": {
     "delete_cmd_postfix": "",
     "delete_cmd_prefix": "del ",
     "library": "var_list.py",
     "varRefreshCmd": "print(var_dic_list())"
    },
    "r": {
     "delete_cmd_postfix": ") ",
     "delete_cmd_prefix": "rm(",
     "library": "var_list.r",
     "varRefreshCmd": "cat(var_dic_list()) "
    }
   },
   "types_to_exclude": [
    "module",
    "function",
    "builtin_function_or_method",
    "instance",
    "_Feature"
   ],
   "window_display": false
  }
 },
 "nbformat": 4,
 "nbformat_minor": 4
}
